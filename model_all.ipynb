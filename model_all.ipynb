{
  "nbformat": 4,
  "nbformat_minor": 0,
  "metadata": {
    "colab": {
      "name": "model_all.ipynb",
      "provenance": [],
      "collapsed_sections": []
    },
    "kernelspec": {
      "name": "python3",
      "display_name": "Python 3"
    },
    "language_info": {
      "name": "python"
    },
    "accelerator": "GPU"
  },
  "cells": [
    {
      "cell_type": "markdown",
      "source": [
        "**Important Modules**"
      ],
      "metadata": {
        "id": "JWfszDolabZp"
      }
    },
    {
      "cell_type": "code",
      "execution_count": null,
      "metadata": {
        "id": "Pd9_ObYbaFgm"
      },
      "outputs": [],
      "source": [
        "import keras\n",
        "import tensorflow\n",
        "from tensorflow.keras import Model\n",
        "from keras.models import Sequential\n",
        "from tensorflow.keras.utils import plot_model\n",
        "from tensorflow.keras.layers import Input, Conv2D, SeparableConv2D, Add, Dense, BatchNormalization, ReLU, MaxPool2D, GlobalAvgPool2D\n",
        "from tensorflow.keras.layers import AvgPool2D, Concatenate, Flatten, Activation\n"
      ]
    },
    {
      "cell_type": "markdown",
      "source": [
        "**Xception-Network**"
      ],
      "metadata": {
        "id": "EMrb-uJCaiTg"
      }
    },
    {
      "cell_type": "code",
      "source": [
        "def xception_network(input_shape,output_shape):\n",
        "    def conv_bn(x, filters, kernel_size, strides=1):\n",
        "        x = Conv2D(filters=filters, kernel_size=kernel_size, strides=strides, padding='same', use_bias=False)(x)\n",
        "        x = BatchNormalization()(x)\n",
        "        return x\n",
        "    \n",
        "    def sep_bn(x, filters, kernel_size, strides=1):\n",
        "        x = SeparableConv2D(filters=filters, kernel_size=kernel_size, strides=strides, padding='same', use_bias=False)(x)\n",
        "        x = BatchNormalization()(x)\n",
        "        return x\n",
        "    \n",
        "    def entry_flow(x):\n",
        "        x = conv_bn(x, filters=32, kernel_size=3, strides=2)\n",
        "        x = ReLU()(x)\n",
        "        x = conv_bn(x, filters=64, kernel_size=3)\n",
        "        tensor = ReLU()(x)\n",
        "    \n",
        "        x = sep_bn(tensor, filters=128, kernel_size=3)\n",
        "        x = ReLU()(x)\n",
        "        x = sep_bn(x, filters=128, kernel_size=3)\n",
        "        x = MaxPool2D(pool_size=3, strides=2, padding='same')(x)\n",
        "        tensor = conv_bn(tensor, filters=128, kernel_size=1, strides=2)\n",
        "    \n",
        "        x = Add()([tensor, x])\n",
        "        x = ReLU()(x)\n",
        "        x = sep_bn(x, filters=256, kernel_size=3)\n",
        "        x = ReLU()(x)\n",
        "        x = sep_bn(x, filters=256, kernel_size=3)\n",
        "        x = MaxPool2D(pool_size=3, strides=2, padding='same')(x)\n",
        "        tensor = conv_bn(tensor, filters=256, kernel_size=1, strides=2)\n",
        "    \n",
        "        x = Add()([tensor, x])\n",
        "        x = ReLU()(x)\n",
        "        x = sep_bn(x, filters=728, kernel_size=3)\n",
        "        x = ReLU()(x)\n",
        "        x = sep_bn(x, filters=728, kernel_size=3)\n",
        "        x = MaxPool2D(pool_size=3, strides=2, padding='same')(x)\n",
        "        tensor = conv_bn(tensor, filters=728, kernel_size=1, strides=2)\n",
        "        x = Add()([tensor, x])\n",
        "        return x\n",
        "    \n",
        "    def middle_flow(tensor):\n",
        "        for _ in range(8):\n",
        "            x = ReLU()(tensor)\n",
        "            x = sep_bn(x, filters=728, kernel_size=3)\n",
        "            x = ReLU()(x)\n",
        "            x = sep_bn(x, filters=728, kernel_size=3)\n",
        "            x = ReLU()(x)\n",
        "            x = sep_bn(x, filters=728, kernel_size=3)\n",
        "            tensor = Add()([tensor, x])\n",
        "        return tensor\n",
        "\n",
        "    def exit_flow(tensor):\n",
        "        x = ReLU()(tensor)\n",
        "        x = sep_bn(x, filters=728, kernel_size=3)\n",
        "        x = ReLU()(x)\n",
        "        x = sep_bn(x, filters=1024, kernel_size=3)\n",
        "        x = MaxPool2D(3, strides=2, padding='same')(x)\n",
        "\n",
        "        tensor = conv_bn(tensor, filters=1024, kernel_size=1, strides=2)\n",
        "        x = Add()([tensor, x])\n",
        "        x = sep_bn(x, filters=1536, kernel_size=3)\n",
        "        x = ReLU()(x)\n",
        "        x = sep_bn(x, filters=2048, kernel_size=3)\n",
        "        x = ReLU()(x)\n",
        "        x = GlobalAvgPool2D()(x)\n",
        "        # Match it with number of output\n",
        "        # Actual Activation function is softmax\n",
        "        x = Dense(output_shape, activation='sigmoid')(x)\n",
        "        return x\n",
        "\n",
        "    input = Input(input_shape)\n",
        "    x = entry_flow(input)\n",
        "    x = middle_flow(x)\n",
        "    output = exit_flow(x)\n",
        "    model = Model(input, output)\n",
        "    return model"
      ],
      "metadata": {
        "id": "lVL2LUrJagZd"
      },
      "execution_count": null,
      "outputs": []
    },
    {
      "cell_type": "markdown",
      "source": [
        "xception_model = xception_network(shape=[224, 224, 3],1)\n",
        "\n",
        "xception_model.summary()"
      ],
      "metadata": {
        "id": "ROu7RzjQb7Mk"
      }
    },
    {
      "cell_type": "markdown",
      "source": [
        "**DenseNet-Network**"
      ],
      "metadata": {
        "id": "72IEu79Cpg-Y"
      }
    },
    {
      "cell_type": "markdown",
      "source": [
        "DenseNet-121"
      ],
      "metadata": {
        "id": "64jaN56NqW8U"
      }
    },
    {
      "cell_type": "code",
      "source": [
        "def densenet_121_network(input_shape,output_shape):\n",
        "    def bn_rl_conv(x, filters, kernel_size):\n",
        "        x = BatchNormalization()(x)\n",
        "        x = ReLU()(x)\n",
        "        x = Conv2D(filters=filters,\n",
        "                kernel_size=kernel_size,\n",
        "                padding='same')(x)\n",
        "        return x\n",
        "\n",
        "    def dense_block(tensor, k, reps):\n",
        "        for _ in range(reps):\n",
        "            x = bn_rl_conv(tensor, filters=4*k, kernel_size=1)\n",
        "            x = bn_rl_conv(x, filters=k, kernel_size=3)\n",
        "            tensor = Concatenate()([tensor, x])\n",
        "        return tensor\n",
        "\n",
        "    def transition_layer(x, theta):\n",
        "        f = int(tensorflow.keras.backend.int_shape(x)[-1] * theta)\n",
        "        x = bn_rl_conv(x, filters=f, kernel_size=1)\n",
        "        x = AvgPool2D(pool_size=2, strides=2, padding='same')(x)\n",
        "        return x\n",
        "\n",
        "    k = 32\n",
        "    theta = 0.5\n",
        "    repetitions = 6, 12, 24, 16\n",
        "    \n",
        "    input = Input(input_shape)\n",
        "    \n",
        "    x = Conv2D(2*k, 7, strides=2, padding='same')(input)\n",
        "    x = MaxPool2D(3, strides=2, padding='same')(x)\n",
        "    \n",
        "    for reps in repetitions:\n",
        "        d = dense_block(x, k, reps)\n",
        "        x = transition_layer(d, theta)\n",
        "    \n",
        "    x = GlobalAvgPool2D()(d)\n",
        "    # Actual Activation function is softmax\n",
        "    output = Dense(output_shape, activation='softmax')(x)\n",
        "    model = Model(input, output)\n",
        "\n",
        "    return model\n"
      ],
      "metadata": {
        "id": "QWP82yFzpW2g"
      },
      "execution_count": null,
      "outputs": []
    },
    {
      "cell_type": "markdown",
      "source": [
        "DenseNet-169"
      ],
      "metadata": {
        "id": "lAxyByBsrHSd"
      }
    },
    {
      "cell_type": "code",
      "source": [
        "def densenet_169_network(input_shape,output_shape):\n",
        "    def bn_rl_conv(x, filters, kernel_size):\n",
        "        x = BatchNormalization()(x)\n",
        "        x = ReLU()(x)\n",
        "        x = Conv2D(filters=filters,\n",
        "                kernel_size=kernel_size,\n",
        "                padding='same')(x)\n",
        "        return x\n",
        "\n",
        "    def dense_block(tensor, k, reps):\n",
        "        for _ in range(reps):\n",
        "            x = bn_rl_conv(tensor, filters=4*k, kernel_size=1)\n",
        "            x = bn_rl_conv(x, filters=k, kernel_size=3)\n",
        "            tensor = Concatenate()([tensor, x])\n",
        "        return tensor\n",
        "\n",
        "    def transition_layer(x, theta):\n",
        "        f = int(tensorflow.keras.backend.int_shape(x)[-1] * theta)\n",
        "        x = bn_rl_conv(x, filters=f, kernel_size=1)\n",
        "        x = AvgPool2D(pool_size=2, strides=2, padding='same')(x)\n",
        "        return x\n",
        "\n",
        "    k = 32\n",
        "    theta = 0.5\n",
        "    repetitions = 6, 12, 32, 32\n",
        "    \n",
        "    input = Input(input_shape)\n",
        "    \n",
        "    x = Conv2D(2*k, 7, strides=2, padding='same')(input)\n",
        "    x = MaxPool2D(3, strides=2, padding='same')(x)\n",
        "    \n",
        "    for reps in repetitions:\n",
        "        d = dense_block(x, k, reps)\n",
        "        x = transition_layer(d, theta)\n",
        "    \n",
        "    x = GlobalAvgPool2D()(d)\n",
        "    # Actual Activation function is softmax\n",
        "    output = Dense(output_shape, activation='softmax')(x)\n",
        "    model = Model(input, output)\n",
        "\n",
        "    return model\n"
      ],
      "metadata": {
        "id": "qagqV384pXBd"
      },
      "execution_count": null,
      "outputs": []
    },
    {
      "cell_type": "markdown",
      "source": [
        "DenseNet-201"
      ],
      "metadata": {
        "id": "LhjRtTNhrRte"
      }
    },
    {
      "cell_type": "code",
      "source": [
        "def densenet_201_network(input_shape,output_shape):\n",
        "    def bn_rl_conv(x, filters, kernel_size):\n",
        "        x = BatchNormalization()(x)\n",
        "        x = ReLU()(x)\n",
        "        x = Conv2D(filters=filters,\n",
        "                kernel_size=kernel_size,\n",
        "                padding='same')(x)\n",
        "        return x\n",
        "\n",
        "    def dense_block(tensor, k, reps):\n",
        "        for _ in range(reps):\n",
        "            x = bn_rl_conv(tensor, filters=4*k, kernel_size=1)\n",
        "            x = bn_rl_conv(x, filters=k, kernel_size=3)\n",
        "            tensor = Concatenate()([tensor, x])\n",
        "        return tensor\n",
        "\n",
        "    def transition_layer(x, theta):\n",
        "        f = int(tensorflow.keras.backend.int_shape(x)[-1] * theta)\n",
        "        x = bn_rl_conv(x, filters=f, kernel_size=1)\n",
        "        x = AvgPool2D(pool_size=2, strides=2, padding='same')(x)\n",
        "        return x\n",
        "\n",
        "    k = 32\n",
        "    theta = 0.5\n",
        "    theta = 0.5\n",
        "    repetitions = 6, 12, 48, 32\n",
        "    \n",
        "    input = Input(input_shape)\n",
        "    \n",
        "    x = Conv2D(2*k, 7, strides=2, padding='same')(input)\n",
        "    x = MaxPool2D(3, strides=2, padding='same')(x)\n",
        "    \n",
        "    for reps in repetitions:\n",
        "        d = dense_block(x, k, reps)\n",
        "        x = transition_layer(d, theta)\n",
        "    \n",
        "    x = GlobalAvgPool2D()(d)\n",
        "    # Actual Activation function is softmax\n",
        "    output = Dense(output_shape, activation='softmax')(x)\n",
        "    model = Model(input, output)\n",
        "\n",
        "    return model"
      ],
      "metadata": {
        "id": "NgwulDTUpXEW"
      },
      "execution_count": null,
      "outputs": []
    },
    {
      "cell_type": "markdown",
      "source": [
        "model = densenet_169_network([500,150,3],1)"
      ],
      "metadata": {
        "id": "HrsK9oW3ttEy"
      }
    },
    {
      "cell_type": "markdown",
      "source": [
        "**VGG-Network**"
      ],
      "metadata": {
        "id": "3x5v5Fv7s0B5"
      }
    },
    {
      "cell_type": "markdown",
      "source": [
        "VGG-16"
      ],
      "metadata": {
        "id": "RNa66s_0s7Zt"
      }
    },
    {
      "cell_type": "code",
      "source": [
        "# Creating VGG-16 Model\n",
        "\n",
        "def vgg_16(input_shape,output_shape):\n",
        "    model = Sequential()\n",
        "\n",
        "    model.add(Conv2D(input_shape=input_shape,filters=64,kernel_size=(3,3),padding=\"same\", activation=\"relu\"))\n",
        "    model.add(Conv2D(filters=64,kernel_size=(3,3),padding=\"same\", activation=\"relu\"))\n",
        "    model.add(MaxPool2D(pool_size=(2,2),strides=(2,2)))\n",
        "\n",
        "    model.add(Conv2D(filters=128, kernel_size=(3,3), padding=\"same\", activation=\"relu\"))\n",
        "    model.add(Conv2D(filters=128, kernel_size=(3,3), padding=\"same\", activation=\"relu\"))\n",
        "    model.add(MaxPool2D(pool_size=(2,2),strides=(2,2)))\n",
        "\n",
        "    model.add(Conv2D(filters=256, kernel_size=(3,3), padding=\"same\", activation=\"relu\"))\n",
        "    model.add(Conv2D(filters=256, kernel_size=(3,3), padding=\"same\", activation=\"relu\"))\n",
        "    model.add(Conv2D(filters=256, kernel_size=(3,3), padding=\"same\", activation=\"relu\"))\n",
        "    model.add(MaxPool2D(pool_size=(2,2),strides=(2,2)))\n",
        "\n",
        "    model.add(Conv2D(filters=512, kernel_size=(3,3), padding=\"same\", activation=\"relu\"))\n",
        "    model.add(Conv2D(filters=512, kernel_size=(3,3), padding=\"same\", activation=\"relu\"))\n",
        "    model.add(Conv2D(filters=512, kernel_size=(3,3), padding=\"same\", activation=\"relu\"))\n",
        "    model.add(MaxPool2D(pool_size=(2,2),strides=(2,2)))\n",
        "\n",
        "    model.add(Conv2D(filters=512, kernel_size=(3,3), padding=\"same\", activation=\"relu\"))\n",
        "    model.add(Conv2D(filters=512, kernel_size=(3,3), padding=\"same\", activation=\"relu\"))\n",
        "    model.add(Conv2D(filters=512, kernel_size=(3,3), padding=\"same\", activation=\"relu\"))\n",
        "    model.add(MaxPool2D(pool_size=(2,2),strides=(2,2)))\n",
        "\n",
        "    model.add(Flatten())\n",
        "    model.add(Dense(units=4096,activation=\"relu\"))\n",
        "    model.add(Dense(units=4096,activation=\"relu\"))\n",
        "    # Actual activation function is softmax\n",
        "    model.add(Dense(output_shape, activation=\"sigmoid\"))\n",
        "\n",
        "    return model"
      ],
      "metadata": {
        "id": "0IWW1zIQpXHe"
      },
      "execution_count": null,
      "outputs": []
    },
    {
      "cell_type": "markdown",
      "source": [
        "VGG-19"
      ],
      "metadata": {
        "id": "qkRZgTYRtJWA"
      }
    },
    {
      "cell_type": "code",
      "source": [
        "def vgg_19(input_shape,output_shape):\n",
        "    model = Sequential()\n",
        "\n",
        "    model.add(Conv2D(input_shape=input_shape,filters=64,kernel_size=(3,3),padding=\"same\", activation=\"relu\"))\n",
        "    model.add(Conv2D(filters=64,kernel_size=(3,3),padding=\"same\", activation=\"relu\"))\n",
        "    model.add(MaxPool2D(pool_size=(2,2),strides=(2,2)))\n",
        "\n",
        "    model.add(Conv2D(filters=128, kernel_size=(3,3), padding=\"same\", activation=\"relu\"))\n",
        "    model.add(Conv2D(filters=128, kernel_size=(3,3), padding=\"same\", activation=\"relu\"))\n",
        "    model.add(MaxPool2D(pool_size=(2,2),strides=(2,2)))\n",
        "\n",
        "    model.add(Conv2D(filters=256, kernel_size=(3,3), padding=\"same\", activation=\"relu\"))\n",
        "    model.add(Conv2D(filters=256, kernel_size=(3,3), padding=\"same\", activation=\"relu\"))\n",
        "    model.add(Conv2D(filters=256, kernel_size=(3,3), padding=\"same\", activation=\"relu\"))\n",
        "    model.add(Conv2D(filters=256, kernel_size=(3,3), padding=\"same\", activation=\"relu\"))\n",
        "    model.add(MaxPool2D(pool_size=(2,2),strides=(2,2)))\n",
        "\n",
        "    model.add(Conv2D(filters=512, kernel_size=(3,3), padding=\"same\", activation=\"relu\"))\n",
        "    model.add(Conv2D(filters=512, kernel_size=(3,3), padding=\"same\", activation=\"relu\"))\n",
        "    model.add(Conv2D(filters=512, kernel_size=(3,3), padding=\"same\", activation=\"relu\"))\n",
        "    model.add(Conv2D(filters=512, kernel_size=(3,3), padding=\"same\", activation=\"relu\"))\n",
        "    model.add(MaxPool2D(pool_size=(2,2),strides=(2,2)))\n",
        "\n",
        "    model.add(Conv2D(filters=512, kernel_size=(3,3), padding=\"same\", activation=\"relu\"))\n",
        "    model.add(Conv2D(filters=512, kernel_size=(3,3), padding=\"same\", activation=\"relu\"))\n",
        "    model.add(Conv2D(filters=512, kernel_size=(3,3), padding=\"same\", activation=\"relu\"))\n",
        "    model.add(Conv2D(filters=512, kernel_size=(3,3), padding=\"same\", activation=\"relu\"))\n",
        "    model.add(MaxPool2D(pool_size=(2,2),strides=(2,2)))\n",
        "\n",
        "    model.add(Flatten())\n",
        "    model.add(Dense(units=4096,activation=\"relu\"))\n",
        "    model.add(Dense(units=4096,activation=\"relu\"))\n",
        "    # Actual one is softmax\n",
        "    model.add(Dense(output_shape, activation=\"sigmoid\"))\n",
        "\n",
        "    return model"
      ],
      "metadata": {
        "id": "7fmZRkbZpXKs"
      },
      "execution_count": null,
      "outputs": []
    },
    {
      "cell_type": "markdown",
      "source": [
        "model = vgg_16((500,150,3),1)"
      ],
      "metadata": {
        "id": "7RYG9HXftvI-"
      }
    },
    {
      "cell_type": "markdown",
      "source": [
        "**ResNet-Network**"
      ],
      "metadata": {
        "id": "zsCd_00jvN8Q"
      }
    },
    {
      "cell_type": "markdown",
      "source": [
        "resnet-50"
      ],
      "metadata": {
        "id": "UB6TsAcivcr-"
      }
    },
    {
      "cell_type": "code",
      "source": [
        "def resnet_50(input_shape, output_shape):\n",
        "  \n",
        "  def conv_bn_rl(x, f, k=1, s=1, p='same'):\n",
        "    x = Conv2D(f, k, strides=s, padding=p)(x)\n",
        "    x = BatchNormalization()(x)\n",
        "    x = ReLU()(x)\n",
        "    return x\n",
        "  \n",
        "  \n",
        "  def identity_block(tensor, f):\n",
        "    x = conv_bn_rl(tensor, f)\n",
        "    x = conv_bn_rl(x, f, 3)\n",
        "    x = Conv2D(4*f, 1)(x)\n",
        "    x = BatchNormalization()(x)\n",
        "    \n",
        "    x = Add()([x, tensor])\n",
        "    output = ReLU()(x)\n",
        "    return output\n",
        "  \n",
        "  \n",
        "  def conv_block(tensor, f, s):\n",
        "    x = conv_bn_rl(tensor, f)\n",
        "    x = conv_bn_rl(x, f, 3, s)\n",
        "    x = Conv2D(4*f, 1)(x)\n",
        "    x = BatchNormalization()(x)\n",
        "    \n",
        "    shortcut = Conv2D(4*f, 1, strides=s)(tensor)\n",
        "    shortcut = BatchNormalization()(shortcut)\n",
        "    \n",
        "    x = Add()([x, shortcut])\n",
        "    output = ReLU()(x)\n",
        "    return output\n",
        "  \n",
        "  \n",
        "  def resnet_block(x, f, r, s=2):\n",
        "    x = conv_block(x, f, s)\n",
        "    for _ in range(r-1):\n",
        "      x = identity_block(x, f)\n",
        "    return x\n",
        "    \n",
        "  \n",
        "  input = Input(input_shape)\n",
        "  \n",
        "  x = conv_bn_rl(input, 64, 7, 2)\n",
        "  x = MaxPool2D(3, strides=2, padding='same')(x)\n",
        "  \n",
        "  x = resnet_block(x, 64, 3, 1)\n",
        "  x = resnet_block(x, 128, 4)\n",
        "  x = resnet_block(x, 256, 6)\n",
        "  x = resnet_block(x, 512, 3)\n",
        "  \n",
        "  x = GlobalAvgPool2D()(x)\n",
        "  \n",
        "  output = Dense(output_shape, activation='softmax')(x)\n",
        "  \n",
        "  model = Model(input, output)\n",
        "  return model"
      ],
      "metadata": {
        "id": "d5ItwFgxpXNd"
      },
      "execution_count": null,
      "outputs": []
    },
    {
      "cell_type": "markdown",
      "source": [
        "ResNet-101"
      ],
      "metadata": {
        "id": "Omy1lCh3v74U"
      }
    },
    {
      "cell_type": "code",
      "source": [
        "def resnet_101(input_shape, output_shape):\n",
        "  \n",
        "  def conv_bn_rl(x, f, k=1, s=1, p='same'):\n",
        "    x = Conv2D(f, k, strides=s, padding=p)(x)\n",
        "    x = BatchNormalization()(x)\n",
        "    x = ReLU()(x)\n",
        "    return x\n",
        "  \n",
        "  \n",
        "  def identity_block(tensor, f):\n",
        "    x = conv_bn_rl(tensor, f)\n",
        "    x = conv_bn_rl(x, f, 3)\n",
        "    x = Conv2D(4*f, 1)(x)\n",
        "    x = BatchNormalization()(x)\n",
        "    \n",
        "    x = Add()([x, tensor])\n",
        "    output = ReLU()(x)\n",
        "    return output\n",
        "  \n",
        "  \n",
        "  def conv_block(tensor, f, s):\n",
        "    x = conv_bn_rl(tensor, f)\n",
        "    x = conv_bn_rl(x, f, 3, s)\n",
        "    x = Conv2D(4*f, 1)(x)\n",
        "    x = BatchNormalization()(x)\n",
        "    \n",
        "    shortcut = Conv2D(4*f, 1, strides=s)(tensor)\n",
        "    shortcut = BatchNormalization()(shortcut)\n",
        "    \n",
        "    x = Add()([x, shortcut])\n",
        "    output = ReLU()(x)\n",
        "    return output\n",
        "  \n",
        "  \n",
        "  def resnet_block(x, f, r, s=2):\n",
        "    x = conv_block(x, f, s)\n",
        "    for _ in range(r-1):\n",
        "      x = identity_block(x, f)\n",
        "    return x\n",
        "    \n",
        "  \n",
        "  input = Input(input_shape)\n",
        "  \n",
        "  x = conv_bn_rl(input, 64, 7, 2)\n",
        "  x = MaxPool2D(3, strides=2, padding='same')(x)\n",
        "  \n",
        "  x = resnet_block(x, 64, 3, 1)\n",
        "  x = resnet_block(x, 128, 4)\n",
        "  x = resnet_block(x, 256, 23)\n",
        "  x = resnet_block(x, 512, 3)\n",
        "  \n",
        "  x = GlobalAvgPool2D()(x)\n",
        "  \n",
        "  output = Dense(output_shape, activation='softmax')(x)\n",
        "  \n",
        "  model = Model(input, output)\n",
        "  return model"
      ],
      "metadata": {
        "id": "1JaouZsvpXQ-"
      },
      "execution_count": null,
      "outputs": []
    },
    {
      "cell_type": "markdown",
      "source": [
        "ResNet-152"
      ],
      "metadata": {
        "id": "cNoCiGEMwHC7"
      }
    },
    {
      "cell_type": "code",
      "source": [
        "def resnet_152(input_shape, output_shape):\n",
        "  \n",
        "  def conv_bn_rl(x, f, k=1, s=1, p='same'):\n",
        "    x = Conv2D(f, k, strides=s, padding=p)(x)\n",
        "    x = BatchNormalization()(x)\n",
        "    x = ReLU()(x)\n",
        "    return x\n",
        "  \n",
        "  \n",
        "  def identity_block(tensor, f):\n",
        "    x = conv_bn_rl(tensor, f)\n",
        "    x = conv_bn_rl(x, f, 3)\n",
        "    x = Conv2D(4*f, 1)(x)\n",
        "    x = BatchNormalization()(x)\n",
        "    \n",
        "    x = Add()([x, tensor])\n",
        "    output = ReLU()(x)\n",
        "    return output\n",
        "  \n",
        "  \n",
        "  def conv_block(tensor, f, s):\n",
        "    x = conv_bn_rl(tensor, f)\n",
        "    x = conv_bn_rl(x, f, 3, s)\n",
        "    x = Conv2D(4*f, 1)(x)\n",
        "    x = BatchNormalization()(x)\n",
        "    \n",
        "    shortcut = Conv2D(4*f, 1, strides=s)(tensor)\n",
        "    shortcut = BatchNormalization()(shortcut)\n",
        "    \n",
        "    x = Add()([x, shortcut])\n",
        "    output = ReLU()(x)\n",
        "    return output\n",
        "  \n",
        "  \n",
        "  def resnet_block(x, f, r, s=2):\n",
        "    x = conv_block(x, f, s)\n",
        "    for _ in range(r-1):\n",
        "      x = identity_block(x, f)\n",
        "    return x\n",
        "    \n",
        "  \n",
        "  input = Input(input_shape)\n",
        "  \n",
        "  x = conv_bn_rl(input, 64, 7, 2)\n",
        "  x = MaxPool2D(3, strides=2, padding='same')(x)\n",
        "  \n",
        "  x = resnet_block(x, 64, 3, 1)\n",
        "  x = resnet_block(x, 128, 8)\n",
        "  x = resnet_block(x, 256, 36)\n",
        "  x = resnet_block(x, 512, 3)\n",
        "  \n",
        "  x = GlobalAvgPool2D()(x)\n",
        "  \n",
        "  output = Dense(output_shape, activation='softmax')(x)\n",
        "  \n",
        "  model = Model(input, output)\n",
        "  return model"
      ],
      "metadata": {
        "id": "yCnEyA9_pXUM"
      },
      "execution_count": null,
      "outputs": []
    },
    {
      "cell_type": "markdown",
      "source": [
        "input_shape = 500, 150, 3\n",
        "\n",
        "output_shape = 1\n",
        "\n",
        "K.clear_session()\n",
        "\n",
        "model = resnet_50(input_shape, output_shape)"
      ],
      "metadata": {
        "id": "FY4XKeDQwPQl"
      }
    },
    {
      "cell_type": "markdown",
      "source": [
        "**Sqeeze_and_Excitation_Network**"
      ],
      "metadata": {
        "id": "OnIjz2BGxA6P"
      }
    },
    {
      "cell_type": "code",
      "source": [
        "def squeezenet(input_shape, output_shape):\n",
        "  \n",
        "  def fire(x, fs, fe):\n",
        "    s = Conv2D(fs, 1, activation='relu')(x)\n",
        "    e1 = Conv2D(fe, 1, activation='relu')(s)\n",
        "    e3 = Conv2D(fe, 3, padding='same', activation='relu')(s)\n",
        "    output = Concatenate()([e1, e3])\n",
        "    return output\n",
        "  \n",
        "  \n",
        "  input = Input(input_shape)\n",
        "  \n",
        "  x = Conv2D(96, 7, strides=2, padding='same', activation='relu')(input)\n",
        "  x = MaxPool2D(3, strides=2, padding='same')(x)\n",
        "  \n",
        "  x = fire(x, 16, 64)\n",
        "  x = fire(x, 16, 64)\n",
        "  x = fire(x, 32, 128)\n",
        "  x = MaxPool2D(3, strides=2, padding='same')(x)\n",
        "  \n",
        "  x = fire(x, 32, 128)\n",
        "  x = fire(x, 48, 192)\n",
        "  x = fire(x, 48, 192)\n",
        "  x = fire(x, 64, 256)\n",
        "  x = MaxPool2D(3, strides=2, padding='same')(x)\n",
        "  \n",
        "  x = fire(x, 64, 256)\n",
        "  x = Conv2D(output_shape, 1)(x)\n",
        "  x = GlobalAvgPool2D()(x)\n",
        "  \n",
        "  output = Activation('softmax')(x)\n",
        "  \n",
        "  model = Model(input, output)\n",
        "  return model"
      ],
      "metadata": {
        "id": "KJUE3_6RpXW5"
      },
      "execution_count": null,
      "outputs": []
    },
    {
      "cell_type": "markdown",
      "source": [
        "input_shape = 500, 150, 3\n",
        "\n",
        "output_shape = 1\n",
        "\n",
        "K.clear_session()\n",
        "\n",
        "model = squeezenet(input_shape, output_shape)"
      ],
      "metadata": {
        "id": "RA_qNt0ExVUL"
      }
    },
    {
      "cell_type": "markdown",
      "source": [
        "**AlexNet**"
      ],
      "metadata": {
        "id": "1urbsYb3yJLN"
      }
    },
    {
      "cell_type": "code",
      "source": [
        "def alexnet(input_shape, output_shape):\n",
        "  input = Input(input_shape)\n",
        "  \n",
        "  # actually batch normalization didn't exist back then\n",
        "  # they used LRN (Local Response Normalization) for regularization\n",
        "  x = Conv2D(96, 11, strides=4, padding='same', activation='relu')(input)\n",
        "  x = BatchNormalization()(x)\n",
        "  x = MaxPool2D(3, strides=2)(x)\n",
        "  \n",
        "  x = Conv2D(256, 5, padding='same', activation='relu')(x)\n",
        "  x = BatchNormalization()(x)\n",
        "  x = MaxPool2D(3, strides=2)(x)\n",
        "  \n",
        "  x = Conv2D(384, 3, strides=1, padding='same', activation='relu')(x)\n",
        "  \n",
        "  x = Conv2D(384, 3, strides=1, padding='same', activation='relu')(x)\n",
        "  \n",
        "  x = Conv2D(256, 3, strides=1, padding='same', activation='relu')(x)\n",
        "  x = BatchNormalization()(x)\n",
        "  x = MaxPool2D(3, strides=2)(x)\n",
        "  \n",
        "  x = Flatten()(x)\n",
        "  x = Dense(4096, activation='relu')(x)\n",
        "  x = Dense(4096, activation='relu')(x)\n",
        "  \n",
        "  output = Dense(output_shape, activation='softmax')(x)\n",
        "  \n",
        "  model = Model(input, output)\n",
        "  return model"
      ],
      "metadata": {
        "id": "vvOsLHn5wc1u"
      },
      "execution_count": null,
      "outputs": []
    },
    {
      "cell_type": "markdown",
      "source": [
        "input_shape = 500, 150, 3\n",
        "\n",
        "output_shape = 1\n",
        "\n",
        "K.clear_session()\n",
        "\n",
        "model = alexnet(input_shape, output_shape)"
      ],
      "metadata": {
        "id": "IXEXMpHZycdc"
      }
    },
    {
      "cell_type": "code",
      "source": [
        ""
      ],
      "metadata": {
        "id": "-IviuIbuwc4j"
      },
      "execution_count": null,
      "outputs": []
    },
    {
      "cell_type": "code",
      "source": [
        ""
      ],
      "metadata": {
        "id": "F7gqOs6jwc7m"
      },
      "execution_count": null,
      "outputs": []
    },
    {
      "cell_type": "code",
      "source": [
        ""
      ],
      "metadata": {
        "id": "4JcuaLfHwc_i"
      },
      "execution_count": null,
      "outputs": []
    },
    {
      "cell_type": "markdown",
      "source": [
        "**Model Verification**"
      ],
      "metadata": {
        "id": "bYsQUNOzd-Hq"
      }
    },
    {
      "cell_type": "code",
      "source": [
        "input_shape = 500, 150, 3\n",
        "output_shape = 1\n",
        "\n",
        "K.clear_session()\n",
        "model = alexnet(input_shape, output_shape)"
      ],
      "metadata": {
        "id": "fKh7ogbtdniP"
      },
      "execution_count": null,
      "outputs": []
    },
    {
      "cell_type": "code",
      "source": [
        "# Number of trainable parameters\n",
        "import numpy as np\n",
        "import tensorflow.keras.backend as K\n",
        "np.sum([K.count_params(p) for p in model.trainable_weights])"
      ],
      "metadata": {
        "colab": {
          "base_uri": "https://localhost:8080/"
        },
        "id": "TcGs5vSQkVkk",
        "outputId": "5d097a58-07ec-4fd5-89a7-c8815a9433a2"
      },
      "execution_count": null,
      "outputs": [
        {
          "output_type": "execute_result",
          "data": {
            "text/plain": [
              "64578113"
            ]
          },
          "metadata": {},
          "execution_count": 93
        }
      ]
    },
    {
      "cell_type": "code",
      "source": [
        "from tensorflow.keras.optimizers import RMSprop\n",
        "\n",
        "model.compile(loss=\"binary_crossentropy\", optimizer= RMSprop(learning_rate=.001), metrics = ['accuracy'])"
      ],
      "metadata": {
        "id": "ZNjWlI1TbnjG"
      },
      "execution_count": null,
      "outputs": []
    },
    {
      "cell_type": "code",
      "source": [
        "import matplotlib.pyplot as plt\n",
        "import os\n",
        "import cv2\n",
        "import random\n",
        "import numpy as np\n",
        "\n",
        "DATASET_X1 = '/content/drive/MyDrive/Deep Learning/SugarCane_Quality/data/HoCP09-804'\n",
        "DATASET_X2 = '/content/drive/MyDrive/Deep Learning/SugarCane_Quality/data/HoCP96-540'\n",
        "DATASET_X3 = '/content/drive/MyDrive/Deep Learning/SugarCane_Quality/data/L01-299'\n",
        "CATAGORIES = [\"damaged\",\"good\"]"
      ],
      "metadata": {
        "id": "k8assFEneYfM"
      },
      "execution_count": null,
      "outputs": []
    },
    {
      "cell_type": "code",
      "source": [
        "#  For HoCP09-804 variety\n",
        "dataset_X1 = []\n",
        "\n",
        "# For HoCP96-540 variety\n",
        "dataset_X2 = []\n",
        "\n",
        "# For L01-299 variety\n",
        "dataset_X3 = []\n",
        "\n",
        "#  Defining image size\n",
        "IMG_SIZE_X = 500\n",
        "IMG_SIZE_Y = 150\n",
        "\n",
        "def create_data(DATASET,training_data):\n",
        "  for category in CATAGORIES:\n",
        "    # Path to the image\n",
        "    path = os.path.join(DATASET,category) \n",
        "    # Category Index\n",
        "    class_num = CATAGORIES.index(category)\n",
        "    for img in os.listdir(path):\n",
        "      # Check for broken image\n",
        "      try:\n",
        "        img_array = cv2.imread(os.path.join(path,img))\n",
        "        new_array = cv2.resize(img_array , (IMG_SIZE_X,IMG_SIZE_Y))\n",
        "        training_data.append([new_array,class_num])\n",
        "      except Exception as e:\n",
        "        pass\n",
        "\n",
        "create_data(DATASET_X1,dataset_X1)\n",
        "create_data(DATASET_X2,dataset_X2)\n",
        "create_data(DATASET_X3,dataset_X3)\n",
        "\n",
        "print(len(dataset_X1))\n",
        "print(len(dataset_X2))\n",
        "print(len(dataset_X3))"
      ],
      "metadata": {
        "colab": {
          "base_uri": "https://localhost:8080/"
        },
        "id": "g9TXydf9dk7I",
        "outputId": "34cad8c1-d41c-4c20-c845-4362b61844d0"
      },
      "execution_count": null,
      "outputs": [
        {
          "output_type": "stream",
          "name": "stdout",
          "text": [
            "1397\n",
            "1072\n",
            "405\n"
          ]
        }
      ]
    },
    {
      "cell_type": "code",
      "source": [
        "random.shuffle(dataset_X1)\n",
        "random.shuffle(dataset_X2)\n",
        "random.shuffle(dataset_X3)\n",
        "\n",
        "train_dataset_X = []\n",
        "train_dataset_y = []\n",
        "\n",
        "test_dataset_X = []\n",
        "test_dataset_y = []\n",
        "\n",
        "def split_data(X):\n",
        "  l = len(X)\n",
        "  i = 0\n",
        "  while i<((1*l)/10.0):\n",
        "    train_dataset_X.append(X[i][0])\n",
        "    train_dataset_y.append(X[i][1])\n",
        "    i+=1\n",
        "  while i<((1.5*l)/10.0):\n",
        "    test_dataset_X.append(X[i][0])\n",
        "    test_dataset_y.append(X[i][1])\n",
        "    i+=1\n",
        "\n",
        "split_data(dataset_X1)\n",
        "split_data(dataset_X2)\n",
        "split_data(dataset_X3)\n",
        "\n",
        "print(len(train_dataset_X))\n",
        "print(len(test_dataset_X))\n",
        "print(len(train_dataset_y))\n",
        "print(len(test_dataset_y))"
      ],
      "metadata": {
        "colab": {
          "base_uri": "https://localhost:8080/"
        },
        "id": "IWASCHmReRO5",
        "outputId": "b8e5aea5-1ece-4602-ac05-a36f7fbee040"
      },
      "execution_count": null,
      "outputs": [
        {
          "output_type": "stream",
          "name": "stdout",
          "text": [
            "289\n",
            "143\n",
            "289\n",
            "143\n"
          ]
        }
      ]
    },
    {
      "cell_type": "code",
      "source": [
        "train_dataset_X = np.array(train_dataset_X).reshape(-1,IMG_SIZE_X,IMG_SIZE_Y,3)\n",
        "train_dataset_y = np.array(train_dataset_y)\n",
        "\n",
        "test_dataset_X = np.array(test_dataset_X).reshape(-1,IMG_SIZE_X,IMG_SIZE_Y,3)\n",
        "test_dataset_y = np.array(test_dataset_y)"
      ],
      "metadata": {
        "id": "cbYS4vBmebLs"
      },
      "execution_count": null,
      "outputs": []
    },
    {
      "cell_type": "code",
      "source": [
        "print(len(train_dataset_X))\n",
        "print(len(test_dataset_X))\n",
        "print(len(train_dataset_y))\n",
        "print(len(test_dataset_y))"
      ],
      "metadata": {
        "colab": {
          "base_uri": "https://localhost:8080/"
        },
        "id": "PNI9rqiYecqL",
        "outputId": "60386339-0292-46ba-dbad-e9a99a067db8"
      },
      "execution_count": null,
      "outputs": [
        {
          "output_type": "stream",
          "name": "stdout",
          "text": [
            "289\n",
            "143\n",
            "289\n",
            "143\n"
          ]
        }
      ]
    },
    {
      "cell_type": "code",
      "source": [
        "# Normalizing the data\n",
        "train_dataset_X = train_dataset_X/255.0\n",
        "test_dataset_X = test_dataset_X/255.0"
      ],
      "metadata": {
        "id": "V1mR7TF4eeGi"
      },
      "execution_count": null,
      "outputs": []
    },
    {
      "cell_type": "code",
      "source": [
        "print(len(train_dataset_X))\n",
        "print(len(test_dataset_X))\n",
        "print(len(train_dataset_y))\n",
        "print(len(test_dataset_y))"
      ],
      "metadata": {
        "colab": {
          "base_uri": "https://localhost:8080/"
        },
        "id": "fZSV-Jugefdw",
        "outputId": "de16be58-6616-4805-a0e1-e47891cd4846"
      },
      "execution_count": null,
      "outputs": [
        {
          "output_type": "stream",
          "name": "stdout",
          "text": [
            "289\n",
            "143\n",
            "289\n",
            "143\n"
          ]
        }
      ]
    },
    {
      "cell_type": "code",
      "source": [
        "model.fit(train_dataset_X,train_dataset_y,batch_size=32,epochs=20,validation_split=0.2)"
      ],
      "metadata": {
        "colab": {
          "base_uri": "https://localhost:8080/"
        },
        "id": "qCbX4e6CehEG",
        "outputId": "45ec106e-d1c5-404c-d8ad-347e75c87c90"
      },
      "execution_count": null,
      "outputs": [
        {
          "output_type": "stream",
          "name": "stdout",
          "text": [
            "Epoch 1/20\n",
            "8/8 [==============================] - 8s 497ms/step - loss: 175.3586 - accuracy: 0.3636 - val_loss: 15.8915 - val_accuracy: 0.4310\n",
            "Epoch 2/20\n",
            "8/8 [==============================] - 1s 163ms/step - loss: 3.7521 - accuracy: 0.3636 - val_loss: 3.8082 - val_accuracy: 0.4310\n",
            "Epoch 3/20\n",
            "8/8 [==============================] - 1s 157ms/step - loss: 2.0722 - accuracy: 0.3636 - val_loss: 1.2477 - val_accuracy: 0.4310\n",
            "Epoch 4/20\n",
            "8/8 [==============================] - 1s 157ms/step - loss: 1.1666 - accuracy: 0.3636 - val_loss: 2.0126 - val_accuracy: 0.4310\n",
            "Epoch 5/20\n",
            "8/8 [==============================] - 1s 159ms/step - loss: 0.9052 - accuracy: 0.3636 - val_loss: 1.7268 - val_accuracy: 0.4310\n",
            "Epoch 6/20\n",
            "8/8 [==============================] - 1s 156ms/step - loss: 1.4592 - accuracy: 0.3636 - val_loss: 1.4449 - val_accuracy: 0.4310\n",
            "Epoch 7/20\n",
            "8/8 [==============================] - 1s 159ms/step - loss: 0.9467 - accuracy: 0.3636 - val_loss: 1.3857 - val_accuracy: 0.4310\n",
            "Epoch 8/20\n",
            "8/8 [==============================] - 1s 158ms/step - loss: 0.9262 - accuracy: 0.3636 - val_loss: 1.1803 - val_accuracy: 0.4310\n",
            "Epoch 9/20\n",
            "8/8 [==============================] - 1s 158ms/step - loss: 1.0498 - accuracy: 0.3636 - val_loss: 2.1086 - val_accuracy: 0.4310\n",
            "Epoch 10/20\n",
            "8/8 [==============================] - 1s 159ms/step - loss: 0.8175 - accuracy: 0.3636 - val_loss: 0.6253 - val_accuracy: 0.4310\n",
            "Epoch 11/20\n",
            "8/8 [==============================] - 1s 157ms/step - loss: 0.8143 - accuracy: 0.3636 - val_loss: 0.7597 - val_accuracy: 0.4310\n",
            "Epoch 12/20\n",
            "8/8 [==============================] - 1s 156ms/step - loss: 0.7653 - accuracy: 0.3636 - val_loss: 1.0697 - val_accuracy: 0.4310\n",
            "Epoch 13/20\n",
            "8/8 [==============================] - 1s 158ms/step - loss: 0.7869 - accuracy: 0.3636 - val_loss: 0.8331 - val_accuracy: 0.4310\n",
            "Epoch 14/20\n",
            "8/8 [==============================] - 1s 161ms/step - loss: 0.7120 - accuracy: 0.3636 - val_loss: 2.3902 - val_accuracy: 0.4310\n",
            "Epoch 15/20\n",
            "8/8 [==============================] - 1s 157ms/step - loss: 0.8410 - accuracy: 0.3636 - val_loss: 0.7252 - val_accuracy: 0.4310\n",
            "Epoch 16/20\n",
            "8/8 [==============================] - 1s 157ms/step - loss: 0.6726 - accuracy: 0.3636 - val_loss: 0.7081 - val_accuracy: 0.4310\n",
            "Epoch 17/20\n",
            "8/8 [==============================] - 1s 157ms/step - loss: 0.6720 - accuracy: 0.3636 - val_loss: 0.6438 - val_accuracy: 0.4310\n",
            "Epoch 18/20\n",
            "8/8 [==============================] - 1s 165ms/step - loss: 0.6855 - accuracy: 0.3636 - val_loss: 4.5106 - val_accuracy: 0.4310\n",
            "Epoch 19/20\n",
            "8/8 [==============================] - 1s 167ms/step - loss: 0.6586 - accuracy: 0.3636 - val_loss: 1.5731 - val_accuracy: 0.4310\n",
            "Epoch 20/20\n",
            "8/8 [==============================] - 1s 157ms/step - loss: 0.6987 - accuracy: 0.3636 - val_loss: 0.8843 - val_accuracy: 0.4310\n"
          ]
        },
        {
          "output_type": "execute_result",
          "data": {
            "text/plain": [
              "<keras.callbacks.History at 0x7faa73179c10>"
            ]
          },
          "metadata": {},
          "execution_count": 95
        }
      ]
    },
    {
      "cell_type": "code",
      "source": [
        "model.evaluate(test_dataset_X,test_dataset_y)"
      ],
      "metadata": {
        "colab": {
          "base_uri": "https://localhost:8080/"
        },
        "id": "Yef160FceieJ",
        "outputId": "8574262a-5cdf-4395-a99a-73f2bd7f2de8"
      },
      "execution_count": null,
      "outputs": [
        {
          "output_type": "stream",
          "name": "stdout",
          "text": [
            "5/5 [==============================] - 1s 279ms/step - loss: 0.6767 - accuracy: 0.3287\n"
          ]
        },
        {
          "output_type": "execute_result",
          "data": {
            "text/plain": [
              "[0.6766554117202759, 0.32867133617401123]"
            ]
          },
          "metadata": {},
          "execution_count": 96
        }
      ]
    },
    {
      "cell_type": "code",
      "source": [
        ""
      ],
      "metadata": {
        "id": "XDxLrEYBekCS"
      },
      "execution_count": null,
      "outputs": []
    }
  ]
}